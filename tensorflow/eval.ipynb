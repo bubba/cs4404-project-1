{
 "cells": [
  {
   "cell_type": "code",
   "execution_count": 1,
   "metadata": {},
   "outputs": [],
   "source": [
    "import tensorflow as tf\n",
    "import tensorflow.contrib.gan as tfgan\n",
    "import matplotlib.pyplot as plt\n",
    "%matplotlib inline\n",
    "from main import generator, discriminator"
   ]
  },
  {
   "cell_type": "code",
   "execution_count": 2,
   "metadata": {},
   "outputs": [],
   "source": [
    "def load_image(filepath):\n",
    "    file = tf.read_file(filepath)\n",
    "    img_decoded = tf.image.decode_jpeg(file, channels=3)\n",
    "    return tfgan.eval.preprocess_image(img_decoded, 256, 256)"
   ]
  },
  {
   "cell_type": "code",
   "execution_count": 7,
   "metadata": {},
   "outputs": [
    {
     "name": "stdout",
     "output_type": "stream",
     "text": [
      "INFO:tensorflow:Restoring parameters from /Users/luke/Downloads/10_epochs/persistent_checkpoints/model.ckpt-2462\n",
      "INFO:tensorflow:Restoring parameters from /Users/luke/Downloads/10_epochs/persistent_checkpoints/model.ckpt-4924\n",
      "INFO:tensorflow:Restoring parameters from /Users/luke/Downloads/10_epochs/persistent_checkpoints/model.ckpt-7386\n",
      "INFO:tensorflow:Restoring parameters from /Users/luke/Downloads/10_epochs/persistent_checkpoints/model.ckpt-9848\n",
      "INFO:tensorflow:Restoring parameters from /Users/luke/Downloads/10_epochs/persistent_checkpoints/model.ckpt-12310\n"
     ]
    }
   ],
   "source": [
    "\n",
    "for checkpoint in range(1231 * 2, 12311, 1231 * 2):\n",
    "    tf.reset_default_graph()\n",
    "    \n",
    "    real_img = '/Users/luke/Source/cs4404-project-1/pytorch/results/images/epoch' + str(checkpoint // 1230).zfill(3) + '_real_B.png'\n",
    "    \n",
    "    with tf.Session() as sess:\n",
    "\n",
    "        def write_img(path, img):\n",
    "            scaled_img = tf.cast(((img + 1.0) / 2.0) * 255, tf.uint8)\n",
    "\n",
    "            saver = tf.train.Saver()\n",
    "            saver.restore(sess, \"/Users/luke/Downloads/10_epochs/persistent_checkpoints/model.ckpt-\" + str(checkpoint))\n",
    "\n",
    "            sess.run(tf.write_file(path, tf.image.encode_jpeg(scaled_img)))\n",
    "\n",
    "        def convert_to_winter(path):\n",
    "            with tf.variable_scope('ModelX2Y'):\n",
    "                with tf.variable_scope('Generator'):\n",
    "                    img = load_image(path)\n",
    "                    res = generator([img])\n",
    "                    write_img(path + '.winter.jpg', res[0])\n",
    "\n",
    "        def convert_to_summer(path):\n",
    "            with tf.variable_scope('ModelY2X'):\n",
    "                with tf.variable_scope('Generator'):\n",
    "                    img = load_image(path)\n",
    "                    return generator([img])\n",
    "                    \n",
    "        \n",
    "        res = convert_to_summer(real_img)\n",
    "        write_img('progress_epoch' + str(checkpoint // 1231).zfill(3) + '.jpg', res[0])\n",
    "    #     with tf.variable_scope('ModelX2Y', reuse=tf.AUTO_REUSE):\n",
    "    #         with tf.variable_scope('Generator', reuse=tf.AUTO_REUSE):\n",
    "    #             w2s2w = generator(w2s)\n",
    "    #     with tf.variable_scope('ModelY2X', reuse=tf.AUTO_REUSE):\n",
    "    #         with tf.variable_scope('Generator', reuse=tf.AUTO_REUSE):\n",
    "    #             s2w2s = generator(s2w)\n",
    "\n",
    "\n",
    "    #     convert_to_winter('../test-images-2/summer0.jpg')\n",
    "#         convert_to_winter('../test-images/test_image_2_summer.jpg')\n",
    "\n",
    "    #     s2w = (s2w + 1.0) / 2.0\n",
    "    #     w2s = (w2s + 1.0) / 2.0\n",
    "    #     s2w2s = (s2w2s + 1.0) / 2.0\n",
    "    #     w2s2w = (w2s2w + 1.0) / 2.0\n",
    "\n",
    "    #     write_img('test_image_4_w2s.jpg', w2s[1])\n",
    "    #     write_img('test_image_4_w2s2w.jpg', w2s2w[1])\n",
    "\n",
    "    #     for img in [s2w[0], s2w2s[0], s2w[1], s2w2s[1], w2s[0], w2s2w[0], w2s[1], w2s2w[1]]:\n",
    "    #         plt.figure()\n",
    "    #         plt.imshow(sess.run(img))"
   ]
  },
  {
   "cell_type": "code",
   "execution_count": null,
   "metadata": {},
   "outputs": [],
   "source": []
  }
 ],
 "metadata": {
  "kernelspec": {
   "display_name": "Python 3",
   "language": "python",
   "name": "python3"
  },
  "language_info": {
   "codemirror_mode": {
    "name": "ipython",
    "version": 3
   },
   "file_extension": ".py",
   "mimetype": "text/x-python",
   "name": "python",
   "nbconvert_exporter": "python",
   "pygments_lexer": "ipython3",
   "version": "3.6.6"
  }
 },
 "nbformat": 4,
 "nbformat_minor": 2
}
